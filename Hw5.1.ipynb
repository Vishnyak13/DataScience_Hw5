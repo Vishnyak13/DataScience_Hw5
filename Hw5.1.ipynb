{
 "cells": [
  {
   "cell_type": "markdown",
   "id": "8546a96c",
   "metadata": {},
   "source": [
    "# Перша частина"
   ]
  },
  {
   "cell_type": "markdown",
   "id": "2f0637c6",
   "metadata": {},
   "source": [
    "Для прямокутної області площею 1000 м2, що примикає до прямої ділянки річки, необхідно побудувати огорожу (причому, зі сторони річки огорожу будувати не потрібно). За яких розмірів області a, b довжина огорожі буде мінімальною? Використовуйте функцію `minimize` з параметрами обмеженнями `bounds` і `constraints`."
   ]
  },
  {
   "cell_type": "code",
   "execution_count": 1,
   "id": "a89c60ac",
   "metadata": {},
   "outputs": [],
   "source": [
    "from scipy.optimize import minimize"
   ]
  },
  {
   "cell_type": "code",
   "execution_count": 2,
   "id": "74d96317",
   "metadata": {},
   "outputs": [],
   "source": [
    "def perimetr(x):\n",
    "    a, b = x\n",
    "    return 2*a + b"
   ]
  },
  {
   "cell_type": "code",
   "execution_count": 3,
   "id": "a2f40970",
   "metadata": {},
   "outputs": [],
   "source": [
    "def constraint(x):\n",
    "    a, b = x\n",
    "    return 1000 - a*b"
   ]
  },
  {
   "cell_type": "code",
   "execution_count": 4,
   "id": "069098e1",
   "metadata": {},
   "outputs": [],
   "source": [
    "bounds = [(1, 1000), (1, 1000)]"
   ]
  },
  {
   "cell_type": "code",
   "execution_count": 5,
   "id": "b42c50a5",
   "metadata": {},
   "outputs": [],
   "source": [
    "area = {'type': 'eq', 'fun': constraint}"
   ]
  },
  {
   "cell_type": "code",
   "execution_count": 6,
   "id": "076e7ba9",
   "metadata": {},
   "outputs": [
    {
     "data": {
      "text/plain": [
       "     fun: 89.44271909997013\n",
       "     jac: array([2., 1.])\n",
       " message: 'Optimization terminated successfully'\n",
       "    nfev: 28\n",
       "     nit: 9\n",
       "    njev: 9\n",
       "  status: 0\n",
       " success: True\n",
       "       x: array([22.36068001, 44.72135908])"
      ]
     },
     "execution_count": 6,
     "metadata": {},
     "output_type": "execute_result"
    }
   ],
   "source": [
    "result = minimize(perimetr, (0, 50), method='SLSQP', bounds=bounds, constraints=area)\n",
    "result"
   ]
  },
  {
   "cell_type": "markdown",
   "id": "58a0f55a",
   "metadata": {},
   "source": [
    "**Відповідь**"
   ]
  },
  {
   "cell_type": "code",
   "execution_count": 7,
   "id": "9eef8f33",
   "metadata": {},
   "outputs": [
    {
     "name": "stdout",
     "output_type": "stream",
     "text": [
      "За розмірів області a = 22.361, b = 44.721 довжина огорожі буде мінімальною.\n"
     ]
    }
   ],
   "source": [
    "print(f'За розмірів області a = {round(result.x[0], 3)}, b = {round(result.x[1], 3)} довжина огорожі буде мінімальною.')"
   ]
  }
 ],
 "metadata": {
  "kernelspec": {
   "display_name": "Python 3 (ipykernel)",
   "language": "python",
   "name": "python3"
  },
  "language_info": {
   "codemirror_mode": {
    "name": "ipython",
    "version": 3
   },
   "file_extension": ".py",
   "mimetype": "text/x-python",
   "name": "python",
   "nbconvert_exporter": "python",
   "pygments_lexer": "ipython3",
   "version": "3.9.13"
  }
 },
 "nbformat": 4,
 "nbformat_minor": 5
}
